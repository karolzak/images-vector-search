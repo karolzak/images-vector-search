{
 "cells": [
  {
   "cell_type": "code",
   "execution_count": 1,
   "metadata": {
    "ExecuteTime": {
     "end_time": "2019-11-07T20:01:48.804527Z",
     "start_time": "2019-11-07T20:01:47.704442Z"
    }
   },
   "outputs": [],
   "source": [
    "import mPyPl as mp"
   ]
  },
  {
   "cell_type": "code",
   "execution_count": 2,
   "metadata": {
    "ExecuteTime": {
     "end_time": "2019-11-07T20:01:56.542145Z",
     "start_time": "2019-11-07T20:01:48.806491Z"
    }
   },
   "outputs": [
    {
     "name": "stderr",
     "output_type": "stream",
     "text": [
      "Using TensorFlow backend.\n"
     ]
    }
   ],
   "source": [
    "%run features_extractor.py"
   ]
  },
  {
   "cell_type": "code",
   "execution_count": 3,
   "metadata": {
    "ExecuteTime": {
     "end_time": "2019-11-07T20:01:56.551793Z",
     "start_time": "2019-11-07T20:01:56.544817Z"
    }
   },
   "outputs": [],
   "source": [
    "from pipe import Pipe\n",
    "import numpy as np\n",
    "\n",
    "@Pipe\n",
    "def apply_batch(datastream, src_field, dst_field, func, batch_size=32):\n",
    "    \"\"\"\n",
    "    Apply function to the field in batches. `batch_size` elements are accumulated into the list, and `func` is called\n",
    "    with this parameter.\n",
    "    \"\"\"\n",
    "    n=0\n",
    "    arg=[]\n",
    "    seq=[]\n",
    "    for x in datastream:\n",
    "        f = __fextract(x,src_field)\n",
    "        arg.append(f)\n",
    "        seq.append(x)\n",
    "        n+=1\n",
    "        if (n>=batch_size):\n",
    "            res = func(arg)\n",
    "            for u,v in zip(seq,res):\n",
    "                u[dst_field] = v\n",
    "                yield u\n",
    "            n=0\n",
    "            arg=[]\n",
    "            seq=[]\n",
    "    if n>0: # flush remaining items\n",
    "        res = func(arg)\n",
    "        for u, v in zip(seq, res):\n",
    "            u[dst_field] = v\n",
    "            yield u\n",
    "            \n",
    "\n",
    "#### Functions below are copied from mPyPl core and will be eventually removed\n",
    "def __fextract(x,field_name):\n",
    "    \"\"\"\n",
    "    Extract value of a given field or fields.\n",
    "    :param x: mdict\n",
    "    :param field_name: name of a field or list of field names\n",
    "    :return: value or list of values\n",
    "    \"\"\"\n",
    "    if field_name is None: return x\n",
    "    if isinstance(field_name, list) or isinstance(field_name, np.ndarray):\n",
    "        return [x[key] for key in field_name]\n",
    "    else:\n",
    "        return x[field_name]\n",
    "\n",
    "\n",
    "def __fnapply(x,src_field,func):\n",
    "    \"\"\"\n",
    "    Internal. Apply function `func` on the values extracted from dict `x`. If `src_fields` is string, function of one argument is expected.\n",
    "    If `src_fields` is a list, `func` should take list as an argument.\n",
    "    \"\"\"\n",
    "    return func(__fextract(x,src_field))"
   ]
  },
  {
   "cell_type": "code",
   "execution_count": null,
   "metadata": {
    "ExecuteTime": {
     "start_time": "2019-11-07T20:01:49.320Z"
    }
   },
   "outputs": [
    {
     "name": "stdout",
     "output_type": "stream",
     "text": [
      "Input images shape:  (64, 200, 200, 3)\n"
     ]
    },
    {
     "name": "stderr",
     "output_type": "stream",
     "text": [
      "C:\\Anaconda3\\envs\\py35\\lib\\site-packages\\keras_applications\\resnet50.py:265: UserWarning: The output shape of `ResNet50(include_top=False)` has been changed since Keras 2.2.0.\n",
      "  warnings.warn('The output shape of `ResNet50(include_top=False)` '\n",
      "D:\\git\\images-vector-search\\features_extractor.py:114: UserWarning: Update your `Model` call to the Keras 2 API: `Model(outputs=[<tf.Tenso..., inputs=Tensor(\"in...)`\n",
      "  model = Model(input=base_model.input, output=[x])\n"
     ]
    }
   ],
   "source": [
    "data_dir = \"101_ObjectCategories\"\n",
    "data = (mp.get_datastream(data_dir, ext=\".jpg\")\n",
    " | mp.apply('filename', 'npy', lambda x: get_images([x], target_size=(200,200), color='RGB', bg_clr=0)[0])\n",
    " | apply_batch(\n",
    "     src_field='npy',\n",
    "     dst_field='emb',\n",
    "     func=lambda x: extract_features(\n",
    "         np.asarray(x),\n",
    "         pretrained_model=\"resnet50\",\n",
    "         pooling_method='avg'),\n",
    "     batch_size=64)\n",
    " | mp.as_list)"
   ]
  },
  {
   "cell_type": "code",
   "execution_count": null,
   "metadata": {
    "ExecuteTime": {
     "end_time": "2019-11-07T19:23:26.217695Z",
     "start_time": "2019-11-07T19:23:25.955079Z"
    }
   },
   "outputs": [],
   "source": [
    "import matplotlib.pyplot as plt\n",
    "%matplotlib inline\n",
    "plt.imshow(data[0]['npy'])\n"
   ]
  },
  {
   "cell_type": "code",
   "execution_count": null,
   "metadata": {},
   "outputs": [],
   "source": []
  }
 ],
 "metadata": {
  "kernelspec": {
   "display_name": "PythonGPU",
   "language": "python",
   "name": "pythongpu"
  },
  "language_info": {
   "codemirror_mode": {
    "name": "ipython",
    "version": 3
   },
   "file_extension": ".py",
   "mimetype": "text/x-python",
   "name": "python",
   "nbconvert_exporter": "python",
   "pygments_lexer": "ipython3",
   "version": "3.5.6"
  }
 },
 "nbformat": 4,
 "nbformat_minor": 2
}
